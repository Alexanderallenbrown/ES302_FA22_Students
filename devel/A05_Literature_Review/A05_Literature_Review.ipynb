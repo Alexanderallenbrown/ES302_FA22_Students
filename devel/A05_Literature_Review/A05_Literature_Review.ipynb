{
 "cells": [
  {
   "cell_type": "markdown",
   "id": "24c03bdf",
   "metadata": {},
   "source": [
    "# Literature Review\n",
    "\n",
    "In ES302, you will work towards choosing a topic for a final project that fits the following criteria:\n",
    "\n",
    "1. Your topic should interest you!\n",
    "2. Your topic should result in either a simulation study (WeBots) or an experiment (equipment permitting) that shows proof-of-concept for an algorithm or method for making a robot, system/group of robots, or a system of robots and biological agents perform a task. If your proposed project includes any interaction with humans or animals, you may need approval from Lafayette College's Institutional Review Board ([IRB](https://irb.lafayette.edu/)) or Institutional Animal Care and Use Committee ([IACUC](https://iacuc.lafayette.edu/)), which may limit feasibility. Please discuss with me if you have any questions.\n",
    "3. Your topic should be relevant to current work in robotics. Looking at recent publications from conferences like [IROS](https://iros2022.org/) or [ICRA](https://www.icra2022.org/) can be very helpful in seeing what people are doing.\n",
    "4. Your topic should be in the sub-domains of mobile robots or robotic arms, and should be feasible to simulate in WeBots. This will allow you to leverage what you learn in ES302 as you complete your project. You should expect to need to learn some material that goes beyond what we study in class, but you should avoid topics that are too far outside the domain of ES302. \n",
    "\n",
    "If you have ideas but are not sure whether they fit the above criteria, please ask me!\n",
    "\n",
    "Before deciding on your topic for a final project in ES302, it is important that you acquaint yourself with the state of the art in the sub-field of robotics that most interests you. If you were interested in a novel approach to robot soccer, for example, you would need to spend a significant amount of time learning how roboticists already approach the game.\n",
    "\n",
    "## Assigned Reading\n",
    "\n",
    "Tutorials and videos here\n",
    "\n",
    "\n",
    "## Characteristics of a systematic literature review\n",
    "\n",
    "Documenting the state of the art in a particular sub-field is called a **literature review**. A good literature review has a few key features. These have been adopted from [this report](https://nsufl.libguides.com/c.php?g=111860&p=6396694#:~:text=The%20key%20characteristics%20of%20a,results%3B%20and%20report%20for%20publication), which focuses on public health reviews but is reasonably complete for any field.\n",
    "\n",
    "### A clearly defined research question\n",
    "\n",
    "### A clear set of specific inclusion and exclusion criteria\n",
    "\n",
    "### A rigorous search of the literature with a clear and robust methodology\n",
    "\n",
    "### Critical appraisal of included studies\n",
    "\n",
    "### Data extraction (if appropriate) from included studies\n",
    "\n",
    "### Analysis and interpretation of results"
   ]
  },
  {
   "cell_type": "code",
   "execution_count": null,
   "id": "24b8fa77",
   "metadata": {},
   "outputs": [],
   "source": []
  }
 ],
 "metadata": {
  "kernelspec": {
   "display_name": "Python 3",
   "language": "python",
   "name": "python3"
  },
  "language_info": {
   "codemirror_mode": {
    "name": "ipython",
    "version": 3
   },
   "file_extension": ".py",
   "mimetype": "text/x-python",
   "name": "python",
   "nbconvert_exporter": "python",
   "pygments_lexer": "ipython3",
   "version": "3.7.5"
  }
 },
 "nbformat": 4,
 "nbformat_minor": 5
}
